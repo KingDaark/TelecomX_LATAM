{
  "nbformat": 4,
  "nbformat_minor": 0,
  "metadata": {
    "colab": {
      "provenance": []
    },
    "kernelspec": {
      "name": "python3",
      "display_name": "Python 3"
    },
    "language_info": {
      "name": "python"
    }
  },
  "cells": [
    {
      "cell_type": "markdown",
      "source": [
        "#📌 Extracción"
      ],
      "metadata": {
        "id": "4foVEKhrlqcH"
      }
    },
    {
      "cell_type": "code",
      "source": [
        "import pandas as pd\n",
        "\n",
        "# URL de la API\n",
        "url = \"https://raw.githubusercontent.com/ingridcristh/challenge2-data-science-LATAM/main/TelecomX_Data.json\"\n",
        "\n",
        "# Extraer datos en un DataFrame\n",
        "df = pd.read_json(url)\n",
        "\n",
        "# Mostrar primeras filas\n",
        "print(\"Datos extraídos (primeras filas):\")\n",
        "print(df.head(), \"\\n\")\n",
        "\n",
        "# Información general del dataset\n",
        "print(\"Información del dataset:\")\n",
        "print(df.info(), \"\\n\")\n",
        "\n",
        "# Dimensiones\n",
        "print(f\"Número de registros: {df.shape[0]}, Número de columnas: {df.shape[1]}\")\n"
      ],
      "metadata": {
        "id": "1--uPM88l7JH",
        "colab": {
          "base_uri": "https://localhost:8080/"
        },
        "outputId": "3973f1bd-c687-4484-aa75-7e499ddc616f"
      },
      "execution_count": null,
      "outputs": [
        {
          "output_type": "stream",
          "name": "stdout",
          "text": [
            "✅ Datos extraídos (primeras filas):\n",
            "   customerID Churn                                           customer  \\\n",
            "0  0002-ORFBO    No  {'gender': 'Female', 'SeniorCitizen': 0, 'Part...   \n",
            "1  0003-MKNFE    No  {'gender': 'Male', 'SeniorCitizen': 0, 'Partne...   \n",
            "2  0004-TLHLJ   Yes  {'gender': 'Male', 'SeniorCitizen': 0, 'Partne...   \n",
            "3  0011-IGKFF   Yes  {'gender': 'Male', 'SeniorCitizen': 1, 'Partne...   \n",
            "4  0013-EXCHZ   Yes  {'gender': 'Female', 'SeniorCitizen': 1, 'Part...   \n",
            "\n",
            "                                             phone  \\\n",
            "0   {'PhoneService': 'Yes', 'MultipleLines': 'No'}   \n",
            "1  {'PhoneService': 'Yes', 'MultipleLines': 'Yes'}   \n",
            "2   {'PhoneService': 'Yes', 'MultipleLines': 'No'}   \n",
            "3   {'PhoneService': 'Yes', 'MultipleLines': 'No'}   \n",
            "4   {'PhoneService': 'Yes', 'MultipleLines': 'No'}   \n",
            "\n",
            "                                            internet  \\\n",
            "0  {'InternetService': 'DSL', 'OnlineSecurity': '...   \n",
            "1  {'InternetService': 'DSL', 'OnlineSecurity': '...   \n",
            "2  {'InternetService': 'Fiber optic', 'OnlineSecu...   \n",
            "3  {'InternetService': 'Fiber optic', 'OnlineSecu...   \n",
            "4  {'InternetService': 'Fiber optic', 'OnlineSecu...   \n",
            "\n",
            "                                             account  \n",
            "0  {'Contract': 'One year', 'PaperlessBilling': '...  \n",
            "1  {'Contract': 'Month-to-month', 'PaperlessBilli...  \n",
            "2  {'Contract': 'Month-to-month', 'PaperlessBilli...  \n",
            "3  {'Contract': 'Month-to-month', 'PaperlessBilli...  \n",
            "4  {'Contract': 'Month-to-month', 'PaperlessBilli...   \n",
            "\n",
            "✅ Información del dataset:\n",
            "<class 'pandas.core.frame.DataFrame'>\n",
            "RangeIndex: 7267 entries, 0 to 7266\n",
            "Data columns (total 6 columns):\n",
            " #   Column      Non-Null Count  Dtype \n",
            "---  ------      --------------  ----- \n",
            " 0   customerID  7267 non-null   object\n",
            " 1   Churn       7267 non-null   object\n",
            " 2   customer    7267 non-null   object\n",
            " 3   phone       7267 non-null   object\n",
            " 4   internet    7267 non-null   object\n",
            " 5   account     7267 non-null   object\n",
            "dtypes: object(6)\n",
            "memory usage: 340.8+ KB\n",
            "None \n",
            "\n",
            "✅ Número de registros: 7267, Número de columnas: 6\n"
          ]
        }
      ]
    },
    {
      "cell_type": "markdown",
      "source": [
        "#🔧 Transformación"
      ],
      "metadata": {
        "id": "1lSZP8zmmGZu"
      }
    },
    {
      "cell_type": "code",
      "source": [
        "\n",
        "import pandas as pd\n",
        "import numpy as np\n",
        "import json\n",
        "\n",
        "url = \"https://raw.githubusercontent.com/ingridcristh/challenge2-data-science-LATAM/main/TelecomX_Data.json\"\n",
        "df = pd.read_json(url)\n",
        "\n",
        "# 1) Identificar columnas con dict/list y convertir SOLO esas a texto\n",
        "cols_no_hash = []\n",
        "for c in df.columns:\n",
        "    # si en la columna hay al menos un dict/list, la marcamos\n",
        "    if df[c].apply(lambda x: isinstance(x, (dict, list))).any():\n",
        "        cols_no_hash.append(c)\n",
        "\n",
        "# Convertir las columnas problemáticas a texto JSON (ordenando llaves para consistencia)\n",
        "for c in cols_no_hash:\n",
        "    df[c] = df[c].apply(lambda v: json.dumps(v, sort_keys=True) if isinstance(v, (dict, list)) else v)\n",
        "\n",
        "# 2) Eliminar duplicados (ya no fallará)\n",
        "df = df.drop_duplicates().copy()\n",
        "\n",
        "# 3) Quitar espacios extra en columnas de texto (si aplican)\n",
        "for c in df.select_dtypes(include=[\"object\"]).columns:\n",
        "    df[c] = df[c].astype(str).str.strip()\n",
        "\n",
        "# 4) Convertir a numérico columnas típicas del dataset Telco (si existen)\n",
        "for col in [\"tenure\", \"MonthlyCharges\", \"TotalCharges\", \"SeniorCitizen\"]:\n",
        "    if col in df.columns:\n",
        "        df[col] = pd.to_numeric(df[col], errors=\"coerce\")\n",
        "\n",
        "# 5) Tratar nulos básicos\n",
        "if \"TotalCharges\" in df.columns:\n",
        "    # si TotalCharges viene vacío en algunos casos, lo colocamos 0 (simple y seguro para principiantes)\n",
        "    df[\"TotalCharges\"] = df[\"TotalCharges\"].fillna(0)\n",
        "\n",
        "# 6) Normalizar columna Churn (si existe)\n",
        "if \"Churn\" in df.columns:\n",
        "    df[\"Churn\"] = df[\"Churn\"].astype(str).str.strip().str.title()  # 'Yes'/'No' => 'Yes'/'No' capitalizados\n",
        "\n",
        "print(\"Transformación completa.\")\n",
        "print(\"Columnas convertidas desde dict/list:\", cols_no_hash)\n",
        "print(\"Tamaño final:\", df.shape)\n",
        "print(df.head())\n",
        "\n",
        "\n"
      ],
      "metadata": {
        "id": "bsm-WTLjmHvt",
        "colab": {
          "base_uri": "https://localhost:8080/"
        },
        "outputId": "7625f1ae-fc14-4f01-e635-03a56d6413b3"
      },
      "execution_count": null,
      "outputs": [
        {
          "output_type": "stream",
          "name": "stdout",
          "text": [
            "Transformación completa.\n",
            "Columnas convertidas desde dict/list: ['customer', 'phone', 'internet', 'account']\n",
            "Tamaño final: (7267, 6)\n",
            "   customerID Churn                                           customer  \\\n",
            "0  0002-ORFBO    No  {\"Dependents\": \"Yes\", \"Partner\": \"Yes\", \"Senio...   \n",
            "1  0003-MKNFE    No  {\"Dependents\": \"No\", \"Partner\": \"No\", \"SeniorC...   \n",
            "2  0004-TLHLJ   Yes  {\"Dependents\": \"No\", \"Partner\": \"No\", \"SeniorC...   \n",
            "3  0011-IGKFF   Yes  {\"Dependents\": \"No\", \"Partner\": \"Yes\", \"Senior...   \n",
            "4  0013-EXCHZ   Yes  {\"Dependents\": \"No\", \"Partner\": \"Yes\", \"Senior...   \n",
            "\n",
            "                                             phone  \\\n",
            "0   {\"MultipleLines\": \"No\", \"PhoneService\": \"Yes\"}   \n",
            "1  {\"MultipleLines\": \"Yes\", \"PhoneService\": \"Yes\"}   \n",
            "2   {\"MultipleLines\": \"No\", \"PhoneService\": \"Yes\"}   \n",
            "3   {\"MultipleLines\": \"No\", \"PhoneService\": \"Yes\"}   \n",
            "4   {\"MultipleLines\": \"No\", \"PhoneService\": \"Yes\"}   \n",
            "\n",
            "                                            internet  \\\n",
            "0  {\"DeviceProtection\": \"No\", \"InternetService\": ...   \n",
            "1  {\"DeviceProtection\": \"No\", \"InternetService\": ...   \n",
            "2  {\"DeviceProtection\": \"Yes\", \"InternetService\":...   \n",
            "3  {\"DeviceProtection\": \"Yes\", \"InternetService\":...   \n",
            "4  {\"DeviceProtection\": \"No\", \"InternetService\": ...   \n",
            "\n",
            "                                             account  \n",
            "0  {\"Charges\": {\"Monthly\": 65.6, \"Total\": \"593.3\"...  \n",
            "1  {\"Charges\": {\"Monthly\": 59.9, \"Total\": \"542.4\"...  \n",
            "2  {\"Charges\": {\"Monthly\": 73.9, \"Total\": \"280.85...  \n",
            "3  {\"Charges\": {\"Monthly\": 98.0, \"Total\": \"1237.8...  \n",
            "4  {\"Charges\": {\"Monthly\": 83.9, \"Total\": \"267.4\"...  \n"
          ]
        }
      ]
    },
    {
      "cell_type": "markdown",
      "source": [
        "#📊 Carga y análisis"
      ],
      "metadata": {
        "id": "6XnTC2NTmMRL"
      }
    },
    {
      "cell_type": "code",
      "source": [
        "\n",
        "import pandas as pd\n",
        "import matplotlib.pyplot as plt\n",
        "import json\n",
        "\n",
        "url = \"https://raw.githubusercontent.com/ingridcristh/challenge2-data-science-LATAM/main/TelecomX_Data.json\"\n",
        "df = pd.read_json(url)\n",
        "\n",
        "# --- Limpieza básica (igual que antes: convertir dict/list a texto) ---\n",
        "cols_no_hash = [c for c in df.columns if df[c].apply(lambda x: isinstance(x, (dict, list))).any()]\n",
        "for c in cols_no_hash:\n",
        "    df[c] = df[c].apply(lambda v: json.dumps(v, sort_keys=True) if isinstance(v, (dict, list)) else v)\n",
        "for c in df.select_dtypes(include=[\"object\"]).columns:\n",
        "    df[c] = df[c].astype(str).str.strip()\n",
        "\n",
        "print(\"Columnas disponibles en el dataset:\")\n",
        "print(df.columns.tolist())\n",
        "\n",
        "# --- Estadísticas numéricas generales ---\n",
        "num_cols = df.select_dtypes(include=[\"number\"]).columns\n",
        "if len(num_cols) > 0:\n",
        "    print(\"\\nEstadísticas numéricas:\")\n",
        "    print(df[num_cols].describe())\n",
        "else:\n",
        "    print(\"\\nNo se encontraron columnas numéricas.\")\n",
        "\n",
        "# --- Distribución de Churn (si existe) ---\n",
        "if \"Churn\" in df.columns:\n",
        "    churn_counts = df[\"Churn\"].value_counts(dropna=False)\n",
        "    print(\"\\nDistribución de Churn:\")\n",
        "    print(churn_counts)\n",
        "    churn_rate = (df[\"Churn\"].eq(\"Yes\").mean() * 100).round(2)\n",
        "    print(f\"Tasa de Churn: {churn_rate}%\")\n",
        "\n",
        "    churn_counts.plot(kind=\"bar\")\n",
        "    plt.title(\"Clientes: Churn vs No Churn\")\n",
        "    plt.xlabel(\"Churn\")\n",
        "    plt.ylabel(\"Cantidad\")\n",
        "    plt.show()\n",
        "else:\n",
        "    print(\"\\n⚠️ No existe la columna 'Churn' en este dataset.\")\n",
        "\n",
        "# --- Ejemplo: correlación entre numéricas ---\n",
        "if len(num_cols) > 1:\n",
        "    corr = df[num_cols].corr()\n",
        "    print(\"\\nCorrelación entre variables numéricas:\")\n",
        "    print(corr.round(2))\n",
        "\n",
        "    plt.matshow(corr)\n",
        "    plt.xticks(range(len(num_cols)), num_cols, rotation=90)\n",
        "    plt.yticks(range(len(num_cols)), num_cols)\n",
        "    plt.colorbar()\n",
        "    plt.title(\"Mapa de correlación\", pad=20)\n",
        "    plt.show()\n"
      ],
      "metadata": {
        "id": "1jgUnLqTmPdd",
        "colab": {
          "base_uri": "https://localhost:8080/",
          "height": 688
        },
        "outputId": "f3e87008-8d8a-4c77-9c39-1029812aafa6"
      },
      "execution_count": null,
      "outputs": [
        {
          "output_type": "stream",
          "name": "stdout",
          "text": [
            "Columnas disponibles en el dataset:\n",
            "['customerID', 'Churn', 'customer', 'phone', 'internet', 'account']\n",
            "\n",
            "No se encontraron columnas numéricas.\n",
            "\n",
            "Distribución de Churn:\n",
            "Churn\n",
            "No     5174\n",
            "Yes    1869\n",
            "        224\n",
            "Name: count, dtype: int64\n",
            "Tasa de Churn: 25.72%\n"
          ]
        },
        {
          "output_type": "display_data",
          "data": {
            "text/plain": [
              "<Figure size 640x480 with 1 Axes>"
            ],
            "image/png": "[encoded data removed]"
          },
          "metadata": {}
        }
      ]
    },
    {
      "cell_type": "markdown",
      "source": [
        "#📄Informe final"
      ],
      "metadata": {
        "id": "v-WzfSvTmaw9"
      }
    },
    {
      "cell_type": "code",
      "source": [
        "\n",
        "import pandas as pd\n",
        "import numpy as np\n",
        "import json\n",
        "\n",
        "url = \"https://raw.githubusercontent.com/ingridcristh/challenge2-data-science-LATAM/main/TelecomX_Data.json\"\n",
        "df = pd.read_json(url)\n",
        "\n",
        "# Limpieza mínima (idéntica a lo esencial usado antes)\n",
        "cols_no_hash = [c for c in df.columns if df[c].apply(lambda x: isinstance(x, (dict, list))).any()]\n",
        "for c in cols_no_hash:\n",
        "    df[c] = df[c].apply(lambda v: json.dumps(v, sort_keys=True) if isinstance(v, (dict, list)) else v)\n",
        "for c in df.select_dtypes(include=[\"object\"]).columns:\n",
        "    df[c] = df[c].astype(str).str.strip()\n",
        "for col in [\"tenure\", \"MonthlyCharges\", \"TotalCharges\", \"SeniorCitizen\"]:\n",
        "    if col in df.columns:\n",
        "        df[col] = pd.to_numeric(df[col], errors=\"coerce\")\n",
        "if \"TotalCharges\" in df.columns:\n",
        "    df[\"TotalCharges\"] = df[\"TotalCharges\"].fillna(0)\n",
        "if \"Churn\" in df.columns:\n",
        "    df[\"Churn\"] = df[\"Churn\"].astype(str).str.strip().str.title()\n",
        "\n",
        "print(\"===== INFORME FINAL: Telecom X - Churn =====\")\n",
        "\n",
        "# 1) Tasa de churn\n",
        "if \"Churn\" in df.columns:\n",
        "    churn_rate = (df[\"Churn\"].eq(\"Yes\").mean() * 100).round(2)\n",
        "    print(f\"- Tasa de Churn global: {churn_rate}%\")\n",
        "else:\n",
        "    print(\"- No se encontró la columna 'Churn'.\")\n",
        "\n",
        "# 2) Cargos mensuales promedio según churn\n",
        "if {\"Churn\",\"MonthlyCharges\"}.issubset(df.columns):\n",
        "    proms = df.groupby(\"Churn\")[\"MonthlyCharges\"].mean().round(2)\n",
        "    print(f\"- MonthlyCharges promedio (No): {proms.get('No', np.nan)}\")\n",
        "    print(f\"- MonthlyCharges promedio (Yes): {proms.get('Yes', np.nan)}\")\n",
        "    if not np.isnan(proms.get('No', np.nan)) and not np.isnan(proms.get('Yes', np.nan)):\n",
        "        dif = round(proms.get('Yes', 0) - proms.get('No', 0), 2)\n",
        "        txt = \"más altos\" if dif > 0 else \"más bajos\"\n",
        "        print(f\"  Observación: quienes evaden pagan {abs(dif)} {txt} en promedio.\")\n",
        "\n",
        "# 3) Churn por tipo de contrato (si existe)\n",
        "if {\"Churn\",\"Contract\"}.issubset(df.columns):\n",
        "    churn_by_contract = df.pivot_table(index=\"Contract\", values=\"Churn\",\n",
        "                                       aggfunc=lambda s: (s==\"Yes\").mean()*100).round(2)\n",
        "    # contrato con menor y mayor churn\n",
        "    if len(churn_by_contract) > 0:\n",
        "        best = churn_by_contract[\"Churn\"].idxmin()\n",
        "        worst = churn_by_contract[\"Churn\"].idxmax()\n",
        "        print(f\"- Menor churn por contrato: {best} ({churn_by_contract.loc[best,'Churn']}%)\")\n",
        "        print(f\"- Mayor churn por contrato: {worst} ({churn_by_contract.loc[worst,'Churn']}%)\")\n",
        "\n",
        "print(\"\\nRecomendación inicial:\")\n",
        "print(\"• Priorizar retención en segmentos con cargos mensuales altos y contratos de mayor churn.\")\n",
        "print(\"• Promover contratos con menor churn (p. ej., plazos más largos si aplican).\")\n",
        "print(\"• Revisar comunicación/soporte en clientes nuevos (tenure bajo) si la columna 'tenure' lo confirma en análisis adicional.\")\n"
      ],
      "metadata": {
        "id": "XMTac0YJmeK9",
        "colab": {
          "base_uri": "https://localhost:8080/"
        },
        "outputId": "eb992322-c0d9-4808-f2f0-0c5a6e73ff1a"
      },
      "execution_count": null,
      "outputs": [
        {
          "output_type": "stream",
          "name": "stdout",
          "text": [
            "===== INFORME FINAL: Telecom X - Churn =====\n",
            "- Tasa de Churn global: 25.72%\n",
            "\n",
            "Recomendación inicial:\n",
            "• Priorizar retención en segmentos con cargos mensuales altos y contratos de mayor churn.\n",
            "• Promover contratos con menor churn (p. ej., plazos más largos si aplican).\n",
            "• Revisar comunicación/soporte en clientes nuevos (tenure bajo) si la columna 'tenure' lo confirma en análisis adicional.\n"
          ]
        }
      ]
    }
  ]
}